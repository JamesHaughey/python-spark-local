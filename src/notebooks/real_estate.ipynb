{
 "cells": [
  {
   "cell_type": "code",
   "execution_count": 1,
   "metadata": {},
   "outputs": [],
   "source": [
    "import os, sys, pprint\n",
    "\n",
    "path_mod = os.getcwd().replace(\"\\\\src\\\\notebooks\", \"\")\n",
    "sys.path.insert(0,path_mod)\n",
    "\n",
    "from src.connections import connect\n",
    "\n",
    "context = connect.ps_connection(\"real_estate\", \"ERROR\", 3)"
   ]
  },
  {
   "cell_type": "code",
   "execution_count": null,
   "metadata": {},
   "outputs": [],
   "source": [
    "'''    \n",
    "Create a Spark program to read the house data from in/RealEstate.csv,\n",
    "group by location, aggregate the average price per SQ Ft and sort by average price per SQ Ft.\n",
    "\n",
    "The houses dataset contains a collection of recent real estate listings in \n",
    "San Luis Obispo county and around it. \n",
    "\n",
    "The dataset contains the following fields:\n",
    "1. MLS: Multiple listing service number for the house (unique ID).\n",
    "2. Location: city/town where the house is located. Most locations are in \n",
    "    San Luis Obispo county and northern Santa Barbara county (Santa Maria­Orcutt, Lompoc, \n",
    "    Guadelupe, Los Alamos), but there some out of area locations as well.\n",
    "3. Price: the most recent listing price of the house (in dollars).\n",
    "4. Bedrooms: number of bedrooms.\n",
    "5. Bathrooms: number of bathrooms.\n",
    "6. Size: size of the house in square feet.\n",
    "7. Price/SQ.ft: price of the house per square foot.\n",
    "8. Status: type of sale. Thee types are represented in the dataset: Short Sale, \n",
    "    Foreclosure and Regular.\n",
    "\n",
    "Each field is comma separated.\n",
    "\n",
    "Sample output:\n",
    "\n",
    "+----------------+-----------------+\n",
    "|        Location| avg(Price SQ Ft)|\n",
    "+----------------+-----------------+\n",
    "|          Oceano|             95.0|\n",
    "|         Bradley|            206.0|\n",
    "| San Luis Obispo|            359.0|\n",
    "|      Santa Ynez|            491.4|\n",
    "|         Cayucos|            887.0|\n",
    "|................|.................|\n",
    "|................|.................|\n",
    "|................|.................|\n",
    "'''"
   ]
  },
  {
   "cell_type": "code",
   "execution_count": 13,
   "metadata": {},
   "outputs": [],
   "source": [
    "file_path = f\"{os.environ['PROJECT_HOME']}/python-spark-tutorial/in/RealEstate.csv\"\n",
    "SQ_FT = 'Price SQ Ft'\n",
    "\n",
    "real_estate = context.sql.read.csv(file_path, header=True, inferSchema=True)"
   ]
  },
  {
   "cell_type": "code",
   "execution_count": 21,
   "metadata": {},
   "outputs": [
    {
     "name": "stdout",
     "output_type": "stream",
     "text": [
      "root\n",
      " |-- MLS: integer (nullable = true)\n",
      " |-- Location: string (nullable = true)\n",
      " |-- Price: double (nullable = true)\n",
      " |-- Bedrooms: integer (nullable = true)\n",
      " |-- Bathrooms: integer (nullable = true)\n",
      " |-- Size: integer (nullable = true)\n",
      " |-- Price SQ Ft: double (nullable = true)\n",
      " |-- Status: string (nullable = true)\n",
      "\n"
     ]
    }
   ],
   "source": [
    "real_estate.printSchema()"
   ]
  },
  {
   "cell_type": "code",
   "execution_count": 22,
   "metadata": {},
   "outputs": [
    {
     "name": "stdout",
     "output_type": "stream",
     "text": [
      "+-------------------+------------------+\n",
      "|           Location|  avg(Price SQ Ft)|\n",
      "+-------------------+------------------+\n",
      "|         New Cuyama|             34.05|\n",
      "|        Bakersfield|             69.69|\n",
      "|          King City| 71.51333333333334|\n",
      "|         Greenfield|             91.58|\n",
      "|    Santa Margarita|             95.38|\n",
      "|            Soledad|102.69333333333333|\n",
      "|        Out Of Area|116.23333333333333|\n",
      "|          Guadalupe|           120.175|\n",
      "|           Coalinga|124.34285714285714|\n",
      "| Santa Maria-Orcutt|147.58871698113194|\n",
      "|             Lompoc|             149.9|\n",
      "|             Lompoc|159.87115384615387|\n",
      "|         San Miguel|163.16071428571425|\n",
      "|            Bradley|            166.81|\n",
      "|            Creston|            181.76|\n",
      "| Santa Maria-Orcutt|183.03692307692307|\n",
      "|             Nipomo|187.92333333333332|\n",
      "|        Paso Robles|191.17752941176474|\n",
      "|         Los Alamos|191.99333333333334|\n",
      "|            Solvang|           193.305|\n",
      "+-------------------+------------------+\n",
      "only showing top 20 rows\n",
      "\n"
     ]
    }
   ],
   "source": [
    "output = (\n",
    "    real_estate\n",
    "    .groupBy(real_estate.Location)\n",
    "    .avg(SQ_FT)\n",
    "    .orderBy(\"avg(Price SQ FT)\")\n",
    ")\n",
    "\n",
    "output.show()"
   ]
  }
 ],
 "metadata": {
  "kernelspec": {
   "display_name": "Python 3",
   "language": "python",
   "name": "python3"
  },
  "language_info": {
   "codemirror_mode": {
    "name": "ipython",
    "version": 3
   },
   "file_extension": ".py",
   "mimetype": "text/x-python",
   "name": "python",
   "nbconvert_exporter": "python",
   "pygments_lexer": "ipython3",
   "version": "3.6.9"
  }
 },
 "nbformat": 4,
 "nbformat_minor": 4
}
