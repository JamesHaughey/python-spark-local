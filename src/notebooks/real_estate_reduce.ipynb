{
 "cells": [
  {
   "cell_type": "code",
   "execution_count": 35,
   "metadata": {},
   "outputs": [],
   "source": [
    "import os, sys, pprint\n",
    "\n",
    "path_mod = os.getcwd().replace(\"\\\\src\\\\notebooks\", \"\")\n",
    "sys.path.insert(0,path_mod)\n",
    "\n",
    "from src.connections import connect\n",
    "\n",
    "context = connect.ps_connection(\"real_estate\", \"ERROR\", 3)\n",
    "sc = context.sc"
   ]
  },
  {
   "cell_type": "code",
   "execution_count": null,
   "metadata": {},
   "outputs": [],
   "source": [
    "'''\n",
    "Create a Spark program to read the house data from in/RealEstate.csv,\n",
    "output the average price for houses with different number of bedrooms.\n",
    "\n",
    "The houses dataset contains a collection of recent real estate listings in San Luis Obispo county and\n",
    "around it. \n",
    "\n",
    "The dataset contains the following fields:\n",
    "1. MLS: Multiple listing service number for the house (unique ID).\n",
    "2. Location: city/town where the house is located. Most locations are in San Luis Obispo county and\n",
    "northern Santa Barbara county (Santa Maria­Orcutt, Lompoc, Guadelupe, Los Alamos), but there\n",
    "some out of area locations as well.\n",
    "3. Price: the most recent listing price of the house (in dollars).\n",
    "4. Bedrooms: number of bedrooms.\n",
    "5. Bathrooms: number of bathrooms.\n",
    "6. Size: size of the house in square feet.\n",
    "7. Price/SQ.ft: price of the house per square foot.\n",
    "8. Status: type of sale. Thee types are represented in the dataset: Short Sale, Foreclosure and Regular.\n",
    "\n",
    "Each field is comma separated.\n",
    "\n",
    "Sample output:\n",
    "\n",
    "   (3, 325000)\n",
    "   (1, 266356)\n",
    "   (2, 325000)\n",
    "   ...\n",
    "\n",
    "3, 1 and 2 mean the number of bedrooms. 325000 means the average price of houses with 3 bedrooms is 325000.\n",
    "\n",
    "'''"
   ]
  },
  {
   "cell_type": "code",
   "execution_count": 3,
   "metadata": {},
   "outputs": [],
   "source": [
    "file_path = f\"{os.environ['PROJECT_HOME']}/python-spark-tutorial/in/RealEstate.csv\""
   ]
  },
  {
   "cell_type": "code",
   "execution_count": 21,
   "metadata": {},
   "outputs": [
    {
     "name": "stdout",
     "output_type": "stream",
     "text": [
      "4 : 483475.6497175141\n",
      "1 : 169981.81818181818\n",
      "0 : 293450.0\n",
      "10 : 699000.0\n",
      "3 : 359062.20649651974\n",
      "2 : 266356.3739837398\n",
      "7 : 325000.0\n",
      "5 : 657858.0645161291\n",
      "6 : 603225.0\n"
     ]
    }
   ],
   "source": [
    "sum_bedrooms = (\n",
    "    sc.textFile(file_path)\n",
    "    .filter(lambda line: \"Bedrooms\" not in line)\n",
    "    .map(lambda line: (line.split(\",\")[3], float(line.split(\",\")[2])))\n",
    "    .reduceByKey(lambda x, y: x + y)\n",
    ")\n",
    "\n",
    "count_bedrooms = (\n",
    "    sc.textFile(file_path)\n",
    "    .filter(lambda line: \"Bedrooms\" not in line)\n",
    "    .map(lambda line: (line.split(\",\")[3], 1))\n",
    "    .reduceByKey(lambda x, y: x + y)\n",
    ")\n",
    "\n",
    "sum_dict = dict(sum_bedrooms.collect())\n",
    "count_dict = dict(count_bedrooms.collect())\n",
    "\n",
    "for bedroom, total in sum_dict.items():\n",
    "    print(f\"{bedroom} : {total / count_dict[bedroom]}\")"
   ]
  },
  {
   "cell_type": "code",
   "execution_count": 32,
   "metadata": {},
   "outputs": [
    {
     "data": {
      "text/plain": [
       "{'4': 483475.6497175141,\n",
       " '1': 169981.81818181818,\n",
       " '0': 293450.0,\n",
       " '10': 699000.0,\n",
       " '3': 359062.20649651974,\n",
       " '2': 266356.3739837398,\n",
       " '7': 325000.0,\n",
       " '5': 657858.0645161291,\n",
       " '6': 603225.0}"
      ]
     },
     "execution_count": 32,
     "metadata": {},
     "output_type": "execute_result"
    }
   ],
   "source": [
    "avg_bedrooms = (\n",
    "    sc.textFile(file_path)\n",
    "    .filter(lambda line: \"Bedrooms\" not in line)\n",
    "    .map(lambda line: (line.split(\",\")[3], (1, float(line.split(\",\")[2]))))\n",
    "    .reduceByKey(lambda x, y: (x[0] + y[0], x[1] + y[1]))\n",
    "    .mapValues(lambda avgTuple: avgTuple[1] / avgTuple[0])\n",
    ")\n",
    "\n",
    "avg_dict = dict(avg_bedrooms.collect())\n",
    "avg_dict"
   ]
  },
  {
   "cell_type": "code",
   "execution_count": 37,
   "metadata": {},
   "outputs": [
    {
     "data": {
      "text/plain": [
       "{'4': 483475.6497175141,\n",
       " '1': 169981.81818181818,\n",
       " '0': 293450.0,\n",
       " '10': 699000.0,\n",
       " '3': 359062.20649651974,\n",
       " '2': 266356.3739837398,\n",
       " '7': 325000.0,\n",
       " '5': 657858.0645161291,\n",
       " '6': 603225.0}"
      ]
     },
     "execution_count": 37,
     "metadata": {},
     "output_type": "execute_result"
    }
   ],
   "source": [
    "from avg_count import AvgCount\n",
    "\n",
    "avg_bedrooms = (\n",
    "    sc.textFile(file_path)\n",
    "    .filter(lambda line: \"Bedrooms\" not in line)\n",
    "    .map(lambda line: (line.split(\",\")[3], AvgCount(1, float(line.split(\",\")[2]))))\n",
    "    .reduceByKey(lambda x, y: AvgCount(x.count + y.count, x.total + y.total))\n",
    "    .mapValues(lambda avg: avg.total / avg.count)\n",
    ")\n",
    "\n",
    "avg_dict = dict(avg_bedrooms.collect())\n",
    "avg_dict"
   ]
  },
  {
   "cell_type": "code",
   "execution_count": 40,
   "metadata": {},
   "outputs": [
    {
     "data": {
      "text/plain": [
       "{10: 699000.0,\n",
       " 7: 325000.0,\n",
       " 6: 603225.0,\n",
       " 5: 657858.0645161291,\n",
       " 4: 483475.6497175141,\n",
       " 3: 359062.20649651974,\n",
       " 2: 266356.3739837398,\n",
       " 1: 169981.81818181818,\n",
       " 0: 293450.0}"
      ]
     },
     "execution_count": 40,
     "metadata": {},
     "output_type": "execute_result"
    }
   ],
   "source": [
    "from avg_count import AvgCount\n",
    "\n",
    "avg_bedrooms = (\n",
    "    sc.textFile(file_path)\n",
    "    .filter(lambda line: \"Bedrooms\" not in line)\n",
    "    .map(lambda line: (int(line.split(\",\")[3]), AvgCount(1, float(line.split(\",\")[2]))))\n",
    "    .reduceByKey(lambda x, y: AvgCount(x.count + y.count, x.total + y.total))\n",
    "    .mapValues(lambda avg: avg.total / avg.count)\n",
    "    .sortByKey(ascending=False)\n",
    ")\n",
    "\n",
    "avg_dict = dict(avg_bedrooms.collect())\n",
    "avg_dict"
   ]
  }
 ],
 "metadata": {
  "kernelspec": {
   "display_name": "Python 3",
   "language": "python",
   "name": "python3"
  },
  "language_info": {
   "codemirror_mode": {
    "name": "ipython",
    "version": 3
   },
   "file_extension": ".py",
   "mimetype": "text/x-python",
   "name": "python",
   "nbconvert_exporter": "python",
   "pygments_lexer": "ipython3",
   "version": "3.6.9"
  }
 },
 "nbformat": 4,
 "nbformat_minor": 4
}
