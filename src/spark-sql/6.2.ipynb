{
 "cells": [
  {
   "cell_type": "code",
   "execution_count": 1,
   "metadata": {},
   "outputs": [
    {
     "data": {
      "text/html": [
       "\n",
       "        <div>\n",
       "            <p><b>SparkContext</b></p>\n",
       "\n",
       "            <p><a href=\"http://DESKTOP-F5FTQE1.lan:4040\">Spark UI</a></p>\n",
       "\n",
       "            <dl>\n",
       "              <dt>Version</dt>\n",
       "                <dd><code>v2.4.4</code></dd>\n",
       "              <dt>Master</dt>\n",
       "                <dd><code>local[*]</code></dd>\n",
       "              <dt>AppName</dt>\n",
       "                <dd><code>PySparkShell</code></dd>\n",
       "            </dl>\n",
       "        </div>\n",
       "        "
      ],
      "text/plain": [
       "<SparkContext master=local[*] appName=PySparkShell>"
      ]
     },
     "execution_count": 1,
     "metadata": {},
     "output_type": "execute_result"
    }
   ],
   "source": [
    "sc"
   ]
  },
  {
   "cell_type": "code",
   "execution_count": 6,
   "metadata": {},
   "outputs": [],
   "source": [
    "import os, sys, pprint\n",
    "\n",
    "path_mod = os.getcwd().replace(\"\\\\src\\\\spark-sql\", \"\")\n",
    "sys.path.insert(0,path_mod)\n",
    "\n",
    "from src.connections import connect\n",
    "\n",
    "context = connect.ps_connection(\"stack_overflow\", \"ERROR\", 3)\n",
    "session = context.sql"
   ]
  },
  {
   "cell_type": "code",
   "execution_count": 11,
   "metadata": {},
   "outputs": [
    {
     "name": "stdout",
     "output_type": "stream",
     "text": [
      "root\n",
      " |-- _c0: integer (nullable = true)\n",
      " |-- collector: string (nullable = true)\n",
      " |-- country: string (nullable = true)\n",
      " |-- un_subregion: string (nullable = true)\n",
      " |-- so_region: string (nullable = true)\n",
      " |-- age_range: string (nullable = true)\n",
      " |-- age_midpoint: double (nullable = true)\n",
      " |-- gender: string (nullable = true)\n",
      " |-- self_identification: string (nullable = true)\n",
      " |-- occupation: string (nullable = true)\n",
      " |-- occupation_group: string (nullable = true)\n",
      " |-- experience_range: string (nullable = true)\n",
      " |-- experience_midpoint: double (nullable = true)\n",
      " |-- salary_range: string (nullable = true)\n",
      " |-- salary_midpoint: double (nullable = true)\n",
      " |-- big_mac_index: double (nullable = true)\n",
      " |-- tech_do: string (nullable = true)\n",
      " |-- tech_want: string (nullable = true)\n",
      " |-- aliens: string (nullable = true)\n",
      " |-- programming_ability: double (nullable = true)\n",
      " |-- employment_status: string (nullable = true)\n",
      " |-- industry: string (nullable = true)\n",
      " |-- company_size_range: string (nullable = true)\n",
      " |-- team_size_range: string (nullable = true)\n",
      " |-- women_on_team: string (nullable = true)\n",
      " |-- remote: string (nullable = true)\n",
      " |-- job_satisfaction: string (nullable = true)\n",
      " |-- job_discovery: string (nullable = true)\n",
      " |-- dev_environment: string (nullable = true)\n",
      " |-- commit_frequency: string (nullable = true)\n",
      " |-- hobby: string (nullable = true)\n",
      " |-- dogs_vs_cats: string (nullable = true)\n",
      " |-- desktop_os: string (nullable = true)\n",
      " |-- unit_testing: string (nullable = true)\n",
      " |-- rep_range: string (nullable = true)\n",
      " |-- visit_frequency: string (nullable = true)\n",
      " |-- why_learn_new_tech: string (nullable = true)\n",
      " |-- education: string (nullable = true)\n",
      " |-- open_to_new_job: string (nullable = true)\n",
      " |-- new_job_value: string (nullable = true)\n",
      " |-- job_search_annoyance: string (nullable = true)\n",
      " |-- interview_likelihood: string (nullable = true)\n",
      " |-- how_to_improve_interview_process: string (nullable = true)\n",
      " |-- star_wars_vs_star_trek: string (nullable = true)\n",
      " |-- agree_tech: string (nullable = true)\n",
      " |-- agree_notice: string (nullable = true)\n",
      " |-- agree_problemsolving: string (nullable = true)\n",
      " |-- agree_diversity: string (nullable = true)\n",
      " |-- agree_adblocker: string (nullable = true)\n",
      " |-- agree_alcohol: string (nullable = true)\n",
      " |-- agree_loveboss: string (nullable = true)\n",
      " |-- agree_nightcode: string (nullable = true)\n",
      " |-- agree_legacy: string (nullable = true)\n",
      " |-- agree_mars: string (nullable = true)\n",
      " |-- important_variety: string (nullable = true)\n",
      " |-- important_control: string (nullable = true)\n",
      " |-- important_sameend: string (nullable = true)\n",
      " |-- important_newtech: string (nullable = true)\n",
      " |-- important_buildnew: string (nullable = true)\n",
      " |-- important_buildexisting: string (nullable = true)\n",
      " |-- important_promotion: string (nullable = true)\n",
      " |-- important_companymission: string (nullable = true)\n",
      " |-- important_wfh: string (nullable = true)\n",
      " |-- important_ownoffice: string (nullable = true)\n",
      " |-- developer_challenges: string (nullable = true)\n",
      " |-- why_stack_overflow: string (nullable = true)\n",
      "\n"
     ]
    }
   ],
   "source": [
    "dataFrameReader = session.read\n",
    "\n",
    "responses = (\n",
    "    dataFrameReader.option(\"header\", \"true\")\n",
    "    .option(\"inferSchema\", value = True)\n",
    "    .csv(\"2016-stack-overflow-survey-responses.csv\")\n",
    ")\n",
    "\n",
    "responses.printSchema()"
   ]
  },
  {
   "cell_type": "code",
   "execution_count": 13,
   "metadata": {},
   "outputs": [
    {
     "name": "stdout",
     "output_type": "stream",
     "text": [
      "+-----------+--------------------+------------+---------------+\n",
      "|    country|          occupation|age_midpoint|salary_midpoint|\n",
      "+-----------+--------------------+------------+---------------+\n",
      "|Afghanistan|                null|        22.0|           null|\n",
      "|Afghanistan|Mobile developer ...|        32.0|        45000.0|\n",
      "|Afghanistan|                null|        null|           null|\n",
      "|Afghanistan|              DevOps|        null|         5000.0|\n",
      "|Afghanistan|                null|        65.0|           null|\n",
      "|Afghanistan|                null|        22.0|           null|\n",
      "|Afghanistan|       Growth hacker|        null|       210000.0|\n",
      "|Afghanistan|Back-end web deve...|        27.0|         5000.0|\n",
      "|    Albania|                null|        27.0|           null|\n",
      "|    Albania|Back-end web deve...|        22.0|         5000.0|\n",
      "|    Albania|Full-stack web de...|        27.0|         5000.0|\n",
      "|    Albania|Full-stack web de...|        22.0|        15000.0|\n",
      "|    Albania|Full-stack web de...|        27.0|         5000.0|\n",
      "|    Albania|Back-end web deve...|        27.0|         5000.0|\n",
      "|    Albania|Back-end web deve...|        22.0|        15000.0|\n",
      "|    Algeria|                null|        44.5|           null|\n",
      "|    Algeria|   Desktop developer|        27.0|           null|\n",
      "|    Algeria|             Student|        16.0|           null|\n",
      "|    Algeria|                null|        22.0|           null|\n",
      "|    Algeria|   Desktop developer|        27.0|        15000.0|\n",
      "+-----------+--------------------+------------+---------------+\n",
      "only showing top 20 rows\n",
      "\n"
     ]
    }
   ],
   "source": [
    "AGE_MIDPOINT = \"age_midpoint\"\n",
    "SALARY_MIDPOINT = \"salary_midpoint\"\n",
    "SALARY_MIDPOINT_BUCKET = \"salary_midpoint_bucket\"\n",
    "\n",
    "responseWithSelectedColumns = responses.select(\"country\", \"occupation\", AGE_MIDPOINT, SALARY_MIDPOINT)\n",
    "responseWithSelectedColumns.show()"
   ]
  },
  {
   "cell_type": "code",
   "execution_count": 14,
   "metadata": {},
   "outputs": [
    {
     "name": "stdout",
     "output_type": "stream",
     "text": [
      "+-----------+--------------------+------------+---------------+\n",
      "|    country|          occupation|age_midpoint|salary_midpoint|\n",
      "+-----------+--------------------+------------+---------------+\n",
      "|Afghanistan|                null|        22.0|           null|\n",
      "|Afghanistan|Mobile developer ...|        32.0|        45000.0|\n",
      "|Afghanistan|                null|        null|           null|\n",
      "|Afghanistan|              DevOps|        null|         5000.0|\n",
      "|Afghanistan|                null|        65.0|           null|\n",
      "|Afghanistan|                null|        22.0|           null|\n",
      "|Afghanistan|       Growth hacker|        null|       210000.0|\n",
      "|Afghanistan|Back-end web deve...|        27.0|         5000.0|\n",
      "+-----------+--------------------+------------+---------------+\n",
      "\n"
     ]
    }
   ],
   "source": [
    "responseWithSelectedColumns.filter(responseWithSelectedColumns['country'] == \"Afghanistan\").show()"
   ]
  },
  {
   "cell_type": "code",
   "execution_count": 15,
   "metadata": {},
   "outputs": [
    {
     "name": "stdout",
     "output_type": "stream",
     "text": [
      "+-----------+--------------------+------------+---------------+\n",
      "|    country|          occupation|age_midpoint|salary_midpoint|\n",
      "+-----------+--------------------+------------+---------------+\n",
      "|Afghanistan|                null|        22.0|           null|\n",
      "|Afghanistan|Mobile developer ...|        32.0|        45000.0|\n",
      "|Afghanistan|                null|        null|           null|\n",
      "|Afghanistan|              DevOps|        null|         5000.0|\n",
      "|Afghanistan|                null|        65.0|           null|\n",
      "|Afghanistan|                null|        22.0|           null|\n",
      "|Afghanistan|       Growth hacker|        null|       210000.0|\n",
      "|Afghanistan|Back-end web deve...|        27.0|         5000.0|\n",
      "+-----------+--------------------+------------+---------------+\n",
      "\n"
     ]
    }
   ],
   "source": [
    "responseWithSelectedColumns.filter(responseWithSelectedColumns.country == \"Afghanistan\").show()"
   ]
  },
  {
   "cell_type": "code",
   "execution_count": 16,
   "metadata": {},
   "outputs": [
    {
     "name": "stdout",
     "output_type": "stream",
     "text": [
      "+--------------------+-----+\n",
      "|          occupation|count|\n",
      "+--------------------+-----+\n",
      "|     Product manager|   18|\n",
      "|Business intellig...|    8|\n",
      "|Mobile developer ...|    3|\n",
      "|System administrator|   34|\n",
      "|             Student|  234|\n",
      "|    Mobile developer|   60|\n",
      "| Engineering manager|   22|\n",
      "|                null|  297|\n",
      "|            Designer|   15|\n",
      "|Embedded applicat...|   33|\n",
      "| Graphics programmer|   11|\n",
      "|               other|   67|\n",
      "|   Desktop developer|   87|\n",
      "|Developer with a ...|   25|\n",
      "|       Growth hacker|    5|\n",
      "|   Quality Assurance|   10|\n",
      "|             Analyst|   20|\n",
      "|Full-stack web de...|  498|\n",
      "|Mobile developer ...|   32|\n",
      "|Machine learning ...|   10|\n",
      "+--------------------+-----+\n",
      "only showing top 20 rows\n",
      "\n"
     ]
    }
   ],
   "source": [
    "groupedData = responseWithSelectedColumns.groupBy(\"occupation\")\n",
    "groupedData.count().show()"
   ]
  },
  {
   "cell_type": "code",
   "execution_count": 17,
   "metadata": {},
   "outputs": [
    {
     "name": "stdout",
     "output_type": "stream",
     "text": [
      "+---------+--------------------+------------+---------------+\n",
      "|  country|          occupation|age_midpoint|salary_midpoint|\n",
      "+---------+--------------------+------------+---------------+\n",
      "|  Algeria|             Student|        16.0|           null|\n",
      "|  Algeria|Back-end web deve...|        16.0|           null|\n",
      "|Argentina|             Student|        16.0|         5000.0|\n",
      "|Argentina|Back-end web deve...|        16.0|         5000.0|\n",
      "|  Armenia|Back-end web deve...|        16.0|         5000.0|\n",
      "|  Armenia|                null|        16.0|           null|\n",
      "|  Armenia|Mobile developer ...|        16.0|         5000.0|\n",
      "|  Armenia|Mobile developer ...|        16.0|         5000.0|\n",
      "|  Austria|Mobile developer ...|        16.0|           null|\n",
      "|  Austria|Full-stack web de...|        16.0|           null|\n",
      "|  Austria|Full-stack web de...|        16.0|        15000.0|\n",
      "|  Austria|                null|        16.0|           null|\n",
      "|  Austria|             Student|        16.0|           null|\n",
      "|  Austria|                null|        16.0|           null|\n",
      "|  Austria|             Student|        16.0|           null|\n",
      "|  Austria|             Student|        16.0|           null|\n",
      "|  Austria|Back-end web deve...|        16.0|         5000.0|\n",
      "|  Austria|                null|        16.0|         5000.0|\n",
      "|  Austria|                null|        16.0|           null|\n",
      "|  Austria|Back-end web deve...|        16.0|         5000.0|\n",
      "+---------+--------------------+------------+---------------+\n",
      "only showing top 20 rows\n",
      "\n"
     ]
    }
   ],
   "source": [
    "responseWithSelectedColumns.filter(responseWithSelectedColumns[AGE_MIDPOINT] < 20).show()"
   ]
  },
  {
   "cell_type": "code",
   "execution_count": 18,
   "metadata": {},
   "outputs": [
    {
     "name": "stdout",
     "output_type": "stream",
     "text": [
      "+------------------+--------------------+------------+---------------+\n",
      "|           country|          occupation|age_midpoint|salary_midpoint|\n",
      "+------------------+--------------------+------------+---------------+\n",
      "|         Argentina|Back-end web deve...|        32.0|       210000.0|\n",
      "|           Denmark|              DevOps|        44.5|       210000.0|\n",
      "|         Argentina|Full-stack web de...|        27.0|       210000.0|\n",
      "|           Denmark|Enterprise level ...|        32.0|       210000.0|\n",
      "|Dominican Republic|Executive (VP of ...|        37.0|       210000.0|\n",
      "|             China|Machine learning ...|        22.0|       210000.0|\n",
      "|            France|Full-stack web de...|        32.0|       210000.0|\n",
      "|           Denmark|Full-stack web de...|        22.0|       210000.0|\n",
      "|       Afghanistan|       Growth hacker|        null|       210000.0|\n",
      "|          Bulgaria|Enterprise level ...|        37.0|       195000.0|\n",
      "|           Denmark|Full-stack web de...|        32.0|       185000.0|\n",
      "|           Austria|               other|        37.0|       185000.0|\n",
      "|           Belgium|Database administ...|        37.0|       165000.0|\n",
      "|         Australia|   Desktop developer|        65.0|       165000.0|\n",
      "|           Denmark|Business intellig...|        44.5|       165000.0|\n",
      "|            France|Enterprise level ...|        54.5|       165000.0|\n",
      "|           Germany|Executive (VP of ...|        27.0|       165000.0|\n",
      "|            Canada|Mobile developer ...|        32.0|       155000.0|\n",
      "|            Brazil|              DevOps|        32.0|       155000.0|\n",
      "|           Denmark|Developer with a ...|        32.0|       155000.0|\n",
      "+------------------+--------------------+------------+---------------+\n",
      "only showing top 20 rows\n",
      "\n"
     ]
    }
   ],
   "source": [
    "responseWithSelectedColumns.orderBy(responseWithSelectedColumns[SALARY_MIDPOINT], ascending = False).show()"
   ]
  },
  {
   "cell_type": "code",
   "execution_count": 19,
   "metadata": {},
   "outputs": [
    {
     "name": "stdout",
     "output_type": "stream",
     "text": [
      "+------------------+--------------------+\n",
      "|           country|avg(salary_midpoint)|\n",
      "+------------------+--------------------+\n",
      "|           Germany|  46491.228070175435|\n",
      "|       Afghanistan|             66250.0|\n",
      "|          Cambodia|              5000.0|\n",
      "|            France|  39648.760330578516|\n",
      "|           Algeria|             30000.0|\n",
      "|         Argentina|  27950.819672131147|\n",
      "|           Belgium|   45989.01098901099|\n",
      "|           Ecuador|             40000.0|\n",
      "|           Albania|   8333.333333333334|\n",
      "|           Finland|   45714.28571428572|\n",
      "|           Bahamas|             95000.0|\n",
      "|             China|             54687.5|\n",
      "|           Belarus|             10000.0|\n",
      "|             Chile|  41666.666666666664|\n",
      "|           Croatia|  14166.666666666666|\n",
      "|           Andorra|             40000.0|\n",
      "|           Bolivia|              5000.0|\n",
      "|           Denmark|   68768.65671641791|\n",
      "|        Bangladesh|   7307.692307692308|\n",
      "|Bosnia Herzegovina|             10000.0|\n",
      "+------------------+--------------------+\n",
      "only showing top 20 rows\n",
      "\n"
     ]
    }
   ],
   "source": [
    "responseWithSelectedColumns.groupBy(\"country\").avg(SALARY_MIDPOINT).show()"
   ]
  },
  {
   "cell_type": "code",
   "execution_count": 35,
   "metadata": {},
   "outputs": [
    {
     "name": "stdout",
     "output_type": "stream",
     "text": [
      "+----------------------+-----+-------------------+\n",
      "|salary_midpoint_bucket|count|            percent|\n",
      "+----------------------+-----+-------------------+\n",
      "|                200000|    9| 0.6280530355896721|\n",
      "|                180000|    3|0.20935101186322402|\n",
      "|                160000|    5|0.34891835310537334|\n",
      "|                140000|   11| 0.7676203768318213|\n",
      "|                120000|   23| 1.6050244242847174|\n",
      "|                100000|   51|  3.558967201674808|\n",
      "|                 80000|   63| 4.3963712491277045|\n",
      "|                 60000|  134|  9.351011863224006|\n",
      "|                 40000|  260| 18.143754361479413|\n",
      "|                 20000|  351|  24.49406838799721|\n",
      "|                     0|  523|  36.49685973482205|\n",
      "+----------------------+-----+-------------------+\n",
      "\n"
     ]
    }
   ],
   "source": [
    "responsesWithSalaryBucket = (\n",
    "    responses.filter(responses[SALARY_MIDPOINT] > 0)\n",
    "    .withColumn(SALARY_MIDPOINT_BUCKET, (responses[SALARY_MIDPOINT] / 20000).cast(\"int\") * 20000)\n",
    ")\n",
    "\n",
    "groupedCount = responsesWithSalaryBucket.groupby(SALARY_MIDPOINT_BUCKET).count()\n",
    "(\n",
    "    groupedCount.withColumn(\"percent\", groupedCount['count'] / responsesWithSalaryBucket.count() * 100)\n",
    "    .orderBy(SALARY_MIDPOINT_BUCKET, ascending = False)\n",
    "    .show()\n",
    ")"
   ]
  },
  {
   "cell_type": "code",
   "execution_count": 36,
   "metadata": {},
   "outputs": [],
   "source": [
    "session.stop()"
   ]
  }
 ],
 "metadata": {
  "kernelspec": {
   "display_name": "Python 3",
   "language": "python",
   "name": "python3"
  },
  "language_info": {
   "codemirror_mode": {
    "name": "ipython",
    "version": 3
   },
   "file_extension": ".py",
   "mimetype": "text/x-python",
   "name": "python",
   "nbconvert_exporter": "python",
   "pygments_lexer": "ipython3",
   "version": "3.6.9"
  }
 },
 "nbformat": 4,
 "nbformat_minor": 4
}
